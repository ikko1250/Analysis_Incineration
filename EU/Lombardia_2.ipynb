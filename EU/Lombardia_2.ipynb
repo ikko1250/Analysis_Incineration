{
 "cells": [
  {
   "cell_type": "code",
   "execution_count": null,
   "id": "04db8573",
   "metadata": {
    "vscode": {
     "languageId": "plaintext"
    }
   },
   "outputs": [],
   "source": [
    "import pandas as pd\n",
    "\n",
    "df = pd.read_csv(\")"
   ]
  }
 ],
 "metadata": {
  "language_info": {
   "name": "python"
  }
 },
 "nbformat": 4,
 "nbformat_minor": 5
}
