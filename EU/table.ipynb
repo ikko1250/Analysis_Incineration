{
 "cells": [
  {
   "cell_type": "code",
   "execution_count": 2,
   "id": "7fb12304",
   "metadata": {},
   "outputs": [],
   "source": [
    "import pandas as pd\n",
    "df = pd.read_csv(\"/home/ubuntu/cur/program/Analyisis_incineration/EU/Italy_plant_list.csv\")\n",
    "\n",
    "styled = (\n",
    "    df.style\n",
    "      .hide(axis=\"index\")                         # 行番号を消す\n",
    "      .format(precision=2, thousands=\",\")         # 数値体裁\n",
    "      .set_table_styles([\n",
    "          {\"selector\": \"table\", \"props\": \"border-collapse:collapse; width:100%; font-family:system-ui,Segoe UI,Roboto,Helvetica,Arial;\"},\n",
    "          {\"selector\": \"th\",    \"props\": \"text-align:center; padding:8px; border-bottom:2px solid #555; background:#fafafa;\"},\n",
    "          {\"selector\": \"td\",    \"props\": \"padding:8px; border-bottom:1px solid #ddd;\"},\n",
    "          {\"selector\": \"tr:nth-child(even)\", \"props\": \"background:#fcfcfc;\"},\n",
    "      ])\n",
    ")\n",
    "\n",
    "styled.to_html(\"table.html\")  # 生成されたHTMLをそのまま貼付/埋め込み\n"
   ]
  }
 ],
 "metadata": {
  "kernelspec": {
   "display_name": ".venv",
   "language": "python",
   "name": "python3"
  },
  "language_info": {
   "codemirror_mode": {
    "name": "ipython",
    "version": 3
   },
   "file_extension": ".py",
   "mimetype": "text/x-python",
   "name": "python",
   "nbconvert_exporter": "python",
   "pygments_lexer": "ipython3",
   "version": "3.11.12"
  }
 },
 "nbformat": 4,
 "nbformat_minor": 5
}
